{
 "cells": [
  {
   "cell_type": "code",
   "execution_count": 1,
   "id": "surprised-theater",
   "metadata": {},
   "outputs": [
    {
     "ename": "ModuleNotFoundError",
     "evalue": "No module named 'matplotlib'",
     "output_type": "error",
     "traceback": [
      "\u001b[0;31m---------------------------------------------------------------------------\u001b[0m",
      "\u001b[0;31mModuleNotFoundError\u001b[0m                       Traceback (most recent call last)",
      "\u001b[0;32m<ipython-input-1-4f8f99b6b958>\u001b[0m in \u001b[0;36m<module>\u001b[0;34m\u001b[0m\n\u001b[1;32m      5\u001b[0m \u001b[0;31m# Helper libraries\u001b[0m\u001b[0;34m\u001b[0m\u001b[0;34m\u001b[0m\u001b[0;34m\u001b[0m\u001b[0m\n\u001b[1;32m      6\u001b[0m \u001b[0;32mimport\u001b[0m \u001b[0mnumpy\u001b[0m \u001b[0;32mas\u001b[0m \u001b[0mnp\u001b[0m\u001b[0;34m\u001b[0m\u001b[0;34m\u001b[0m\u001b[0m\n\u001b[0;32m----> 7\u001b[0;31m \u001b[0;32mimport\u001b[0m \u001b[0mmatplotlib\u001b[0m\u001b[0;34m.\u001b[0m\u001b[0mpyplot\u001b[0m \u001b[0;32mas\u001b[0m \u001b[0mplt\u001b[0m\u001b[0;34m\u001b[0m\u001b[0;34m\u001b[0m\u001b[0m\n\u001b[0m",
      "\u001b[0;31mModuleNotFoundError\u001b[0m: No module named 'matplotlib'"
     ]
    }
   ],
   "source": [
    "# TensorFlow and tf.keras\n",
    "import tensorflow as tf\n",
    "from tensorflow import keras\n",
    "\n",
    "# Helper libraries\n",
    "import numpy as np\n",
    "import matplotlib.pyplot as plt"
   ]
  },
  {
   "cell_type": "code",
   "execution_count": 2,
   "id": "quantitative-korea",
   "metadata": {},
   "outputs": [
    {
     "name": "stdout",
     "output_type": "stream",
     "text": [
      "Collecting package metadata (current_repodata.json): done\n",
      "Solving environment: failed with initial frozen solve. Retrying with flexible solve.\n",
      "Solving environment: failed with repodata from current_repodata.json, will retry with next repodata source.\n",
      "Collecting package metadata (repodata.json): done\n",
      "Solving environment: failed with initial frozen solve. Retrying with flexible solve.\n",
      "Solving environment: | \n",
      "Found conflicts! Looking for incompatible packages.\n",
      "This can take several minutes.  Press CTRL-C to abort.\n",
      "                                                                               failed\n",
      "\n",
      "UnsatisfiableError: The following specifications were found to be incompatible with a past\n",
      "explicit spec that is not an explicit spec in this operation (numpy):\n",
      "\n",
      "  - matplotlib -> matplotlib-base[version='>=3.3.4,<3.3.5.0a0'] -> numpy[version='>=1.19.4,<2.0a0|>=1.19.5,<2.0a0']\n",
      "\n",
      "The following specifications were found to be incompatible with each other:\n",
      "\n",
      "Output in format: Requested package -> Available versions\n",
      "\n",
      "Package readline conflicts for:\n",
      "protobuf=3.13.0 -> python[version='>=3.9,<3.10.0a0'] -> readline[version='>=8.0,<9.0a0']\n",
      "termcolor -> python -> readline[version='>=8.0,<9.0a0']\n",
      "matplotlib -> python[version='>=3.8,<3.9.0a0'] -> readline[version='>=8.0,<9.0a0']\n",
      "pandas -> python[version='>=3.8,<3.9.0a0'] -> readline[version='>=8.0,<9.0a0']\n",
      "python=3.8.6 -> readline[version='>=8.0,<9.0a0']\n",
      "wheel -> python -> readline[version='>=8.0,<9.0a0']\n",
      "astunparse -> python -> readline[version='>=8.0,<9.0a0']\n",
      "certifi -> python -> readline[version='>=8.0,<9.0a0']\n",
      "setuptools -> python[version='>=3.9,<3.10.0a0'] -> readline[version='>=8.0,<9.0a0']\n",
      "numpy==1.19.2 -> python[version='>=3.8,<3.9.0a0'] -> readline[version='>=8.0,<9.0a0']\n",
      "opt_einsum -> python[version='>=3.5'] -> readline[version='>=8.0,<9.0a0']\n",
      "typeguard -> python[version='>=3.4'] -> readline[version='>=8.0,<9.0a0']\n",
      "gast=0.3.3 -> python -> readline[version='>=8.0,<9.0a0']\n",
      "typing_extensions -> python[version='>=3.5'] -> readline[version='>=8.0,<9.0a0']\n",
      "python_abi -> python=3.9 -> readline[version='>=8.0,<9.0a0']\n",
      "pytz -> python -> readline[version='>=8.0,<9.0a0']\n",
      "pip -> python[version='>=3.6'] -> readline[version='>=8.0,<9.0a0']\n",
      "absl-py -> python -> readline[version='>=8.0,<9.0a0']\n",
      "cached-property -> python -> readline[version='>=8.0,<9.0a0']\n",
      "readline\n",
      "sqlite -> readline[version='>=8.0,<9.0a0']\n",
      "python-dateutil -> python -> readline[version='>=8.0,<9.0a0']\n",
      "\n",
      "Package libffi conflicts for:\n",
      "typing_extensions -> python[version='>=3.5'] -> libffi[version='>=3.2.1,<3.3.0a0|>=3.3,<3.4.0a0']\n",
      "pip -> python[version='>=3.6'] -> libffi[version='>=3.2.1,<3.3.0a0|>=3.3,<3.4.0a0']\n",
      "certifi -> python -> libffi[version='>=3.2.1,<3.3.0a0|>=3.3,<3.4.0a0']\n",
      "setuptools -> python[version='>=3.9,<3.10.0a0'] -> libffi[version='>=3.2.1,<3.3.0a0|>=3.3,<3.4.0a0']\n",
      "gast=0.3.3 -> python -> libffi[version='>=3.2.1,<3.3.0a0|>=3.3,<3.4.0a0']\n",
      "numpy==1.19.2 -> python[version='>=3.8,<3.9.0a0'] -> libffi[version='>=3.2.1,<3.3.0a0|>=3.3,<3.4.0a0']\n",
      "typeguard -> python[version='>=3.4'] -> libffi[version='>=3.2.1,<3.3.0a0|>=3.3,<3.4.0a0']\n",
      "cached-property -> python -> libffi[version='>=3.2.1,<3.3.0a0|>=3.3,<3.4.0a0']\n",
      "python-dateutil -> python -> libffi[version='>=3.2.1,<3.3.0a0|>=3.3,<3.4.0a0']\n",
      "astunparse -> python -> libffi[version='>=3.2.1,<3.3.0a0|>=3.3,<3.4.0a0']\n",
      "python_abi -> python=3.9 -> libffi[version='>=3.2.1,<3.3.0a0|>=3.3,<3.4.0a0']\n",
      "absl-py -> python -> libffi[version='>=3.2.1,<3.3.0a0|>=3.3,<3.4.0a0']\n",
      "libffi\n",
      "matplotlib -> python[version='>=3.8,<3.9.0a0'] -> libffi[version='>=3.2.1,<3.3.0a0|>=3.3,<3.4.0a0']\n",
      "protobuf=3.13.0 -> python[version='>=3.9,<3.10.0a0'] -> libffi[version='>=3.2.1,<3.3.0a0|>=3.3,<3.4.0a0']\n",
      "pytz -> python -> libffi[version='>=3.2.1,<3.3.0a0|>=3.3,<3.4.0a0']\n",
      "pandas -> python[version='>=3.8,<3.9.0a0'] -> libffi[version='>=3.2.1,<3.3.0a0|>=3.3,<3.4.0a0']\n",
      "termcolor -> python -> libffi[version='>=3.2.1,<3.3.0a0|>=3.3,<3.4.0a0']\n",
      "python=3.8.6 -> libffi[version='>=3.2.1,<3.3.0a0|>=3.3,<3.4.0a0']\n",
      "wheel -> python -> libffi[version='>=3.2.1,<3.3.0a0|>=3.3,<3.4.0a0']\n",
      "opt_einsum -> python[version='>=3.5'] -> libffi[version='>=3.2.1,<3.3.0a0|>=3.3,<3.4.0a0']\n",
      "\n",
      "Package tzdata conflicts for:\n",
      "astunparse -> python -> tzdata\n",
      "numpy==1.19.2 -> python[version='>=3.9,<3.10.0a0'] -> tzdata\n",
      "setuptools -> python[version='>=3.9,<3.10.0a0'] -> tzdata\n",
      "gast=0.3.3 -> python -> tzdata\n",
      "cached-property -> python -> tzdata\n",
      "pandas -> python[version='>=3.9,<3.10.0a0'] -> tzdata\n",
      "typing_extensions -> python[version='>=3.5'] -> tzdata\n",
      "opt_einsum -> python[version='>=3.5'] -> tzdata\n",
      "matplotlib -> python[version='>=3.9,<3.10.0a0'] -> tzdata\n",
      "pytz -> python -> tzdata\n",
      "pip -> python[version='>=3.6'] -> tzdata\n",
      "python_abi -> python=3.9 -> tzdata\n",
      "python-dateutil -> python -> tzdata\n",
      "termcolor -> python -> tzdata\n",
      "absl-py -> python -> tzdata\n",
      "protobuf=3.13.0 -> python[version='>=3.9,<3.10.0a0'] -> tzdata\n",
      "six -> python -> tzdata\n",
      "certifi -> python -> tzdata\n",
      "typeguard -> python[version='>=3.4'] -> tzdata\n",
      "wheel -> python -> tzdata\n",
      "\n",
      "Package openssl conflicts for:\n",
      "numpy==1.19.2 -> python[version='>=3.8,<3.9.0a0'] -> openssl[version='>=1.1.1g,<1.1.2a|>=1.1.1h,<1.1.2a|>=1.1.1i,<1.1.2a']\n",
      "typing_extensions -> python[version='>=3.5'] -> openssl[version='>=1.1.1g,<1.1.2a|>=1.1.1h,<1.1.2a|>=1.1.1i,<1.1.2a']\n",
      "pip -> python[version='>=3.6'] -> openssl[version='>=1.1.1g,<1.1.2a|>=1.1.1h,<1.1.2a|>=1.1.1i,<1.1.2a']\n",
      "setuptools -> python[version='>=3.9,<3.10.0a0'] -> openssl[version='>=1.1.1g,<1.1.2a|>=1.1.1h,<1.1.2a|>=1.1.1i,<1.1.2a']\n",
      "gast=0.3.3 -> python -> openssl[version='>=1.1.1g,<1.1.2a|>=1.1.1h,<1.1.2a|>=1.1.1i,<1.1.2a']\n",
      "python-dateutil -> python -> openssl[version='>=1.1.1g,<1.1.2a|>=1.1.1h,<1.1.2a|>=1.1.1i,<1.1.2a']\n",
      "wheel -> python -> openssl[version='>=1.1.1g,<1.1.2a|>=1.1.1h,<1.1.2a|>=1.1.1i,<1.1.2a']\n",
      "typeguard -> python[version='>=3.4'] -> openssl[version='>=1.1.1g,<1.1.2a|>=1.1.1h,<1.1.2a|>=1.1.1i,<1.1.2a']\n",
      "cached-property -> python -> openssl[version='>=1.1.1g,<1.1.2a|>=1.1.1h,<1.1.2a|>=1.1.1i,<1.1.2a']\n",
      "pytz -> python -> openssl[version='>=1.1.1g,<1.1.2a|>=1.1.1h,<1.1.2a|>=1.1.1i,<1.1.2a']\n",
      "opt_einsum -> python[version='>=3.5'] -> openssl[version='>=1.1.1g,<1.1.2a|>=1.1.1h,<1.1.2a|>=1.1.1i,<1.1.2a']\n",
      "astunparse -> python -> openssl[version='>=1.1.1g,<1.1.2a|>=1.1.1h,<1.1.2a|>=1.1.1i,<1.1.2a']\n",
      "python_abi -> python=3.9 -> openssl[version='>=1.1.1g,<1.1.2a|>=1.1.1h,<1.1.2a|>=1.1.1i,<1.1.2a']\n",
      "absl-py -> python -> openssl[version='>=1.1.1g,<1.1.2a|>=1.1.1h,<1.1.2a|>=1.1.1i,<1.1.2a']\n",
      "python=3.8.6 -> openssl[version='>=1.1.1h,<1.1.2a|>=1.1.1i,<1.1.2a']\n",
      "protobuf=3.13.0 -> python[version='>=3.9,<3.10.0a0'] -> openssl[version='>=1.1.1g,<1.1.2a|>=1.1.1h,<1.1.2a|>=1.1.1i,<1.1.2a']\n",
      "matplotlib -> python[version='>=3.8,<3.9.0a0'] -> openssl[version='>=1.1.1g,<1.1.2a|>=1.1.1h,<1.1.2a|>=1.1.1i,<1.1.2a']\n",
      "pandas -> python[version='>=3.8,<3.9.0a0'] -> openssl[version='>=1.1.1g,<1.1.2a|>=1.1.1h,<1.1.2a|>=1.1.1i,<1.1.2a']\n",
      "termcolor -> python -> openssl[version='>=1.1.1g,<1.1.2a|>=1.1.1h,<1.1.2a|>=1.1.1i,<1.1.2a']\n",
      "openssl\n",
      "certifi -> python -> openssl[version='>=1.1.1g,<1.1.2a|>=1.1.1h,<1.1.2a|>=1.1.1i,<1.1.2a']\n",
      "\n",
      "Package xz conflicts for:\n",
      "termcolor -> python -> xz[version='>=5.2.5,<5.3.0a0']\n",
      "certifi -> python -> xz[version='>=5.2.5,<5.3.0a0']\n",
      "wheel -> python -> xz[version='>=5.2.5,<5.3.0a0']\n",
      "opt_einsum -> python[version='>=3.5'] -> xz[version='>=5.2.5,<5.3.0a0']\n",
      "numpy==1.19.2 -> python[version='>=3.8,<3.9.0a0'] -> xz[version='>=5.2.5,<5.3.0a0']\n",
      "typing_extensions -> python[version='>=3.5'] -> xz[version='>=5.2.5,<5.3.0a0']\n",
      "python_abi -> python=3.9 -> xz[version='>=5.2.5,<5.3.0a0']\n",
      "setuptools -> python[version='>=3.9,<3.10.0a0'] -> xz[version='>=5.2.5,<5.3.0a0']\n",
      "pip -> python[version='>=3.6'] -> xz[version='>=5.2.5,<5.3.0a0']\n",
      "gast=0.3.3 -> python -> xz[version='>=5.2.5,<5.3.0a0']\n",
      "python-dateutil -> python -> xz[version='>=5.2.5,<5.3.0a0']\n",
      "xz\n",
      "typeguard -> python[version='>=3.4'] -> xz[version='>=5.2.5,<5.3.0a0']\n",
      "cached-property -> python -> xz[version='>=5.2.5,<5.3.0a0']\n",
      "pytz -> python -> xz[version='>=5.2.5,<5.3.0a0']\n",
      "astunparse -> python -> xz[version='>=5.2.5,<5.3.0a0']\n",
      "absl-py -> python -> xz[version='>=5.2.5,<5.3.0a0']\n",
      "protobuf=3.13.0 -> python[version='>=3.9,<3.10.0a0'] -> xz[version='>=5.2.5,<5.3.0a0']\n",
      "matplotlib -> python[version='>=3.8,<3.9.0a0'] -> xz[version='>=5.2.5,<5.3.0a0']\n",
      "python=3.8.6 -> xz[version='>=5.2.5,<5.3.0a0']\n",
      "pandas -> python[version='>=3.8,<3.9.0a0'] -> xz[version='>=5.2.5,<5.3.0a0']\n",
      "\n",
      "Package tk conflicts for:\n",
      "python-dateutil -> python -> tk[version='>=8.6.10,<8.7.0a0']\n",
      "matplotlib -> python[version='>=3.8,<3.9.0a0'] -> tk[version='>=8.6.10,<8.7.0a0']\n",
      "absl-py -> python -> tk[version='>=8.6.10,<8.7.0a0']\n",
      "pytz -> python -> tk[version='>=8.6.10,<8.7.0a0']\n",
      "protobuf=3.13.0 -> python[version='>=3.9,<3.10.0a0'] -> tk[version='>=8.6.10,<8.7.0a0']\n",
      "pandas -> python[version='>=3.8,<3.9.0a0'] -> tk[version='>=8.6.10,<8.7.0a0']\n",
      "termcolor -> python -> tk[version='>=8.6.10,<8.7.0a0']\n",
      "python=3.8.6 -> tk[version='>=8.6.10,<8.7.0a0']\n",
      "certifi -> python -> tk[version='>=8.6.10,<8.7.0a0']\n",
      "numpy==1.19.2 -> python[version='>=3.8,<3.9.0a0'] -> tk[version='>=8.6.10,<8.7.0a0']\n",
      "typing_extensions -> python[version='>=3.5'] -> tk[version='>=8.6.10,<8.7.0a0']\n",
      "opt_einsum -> python[version='>=3.5'] -> tk[version='>=8.6.10,<8.7.0a0']\n",
      "wheel -> python -> tk[version='>=8.6.10,<8.7.0a0']\n",
      "python_abi -> python=3.9 -> tk[version='>=8.6.10,<8.7.0a0']\n",
      "astunparse -> python -> tk[version='>=8.6.10,<8.7.0a0']\n",
      "setuptools -> python[version='>=3.9,<3.10.0a0'] -> tk[version='>=8.6.10,<8.7.0a0']\n",
      "pip -> python[version='>=3.6'] -> tk[version='>=8.6.10,<8.7.0a0']\n",
      "gast=0.3.3 -> python -> tk[version='>=8.6.10,<8.7.0a0']\n",
      "typeguard -> python[version='>=3.4'] -> tk[version='>=8.6.10,<8.7.0a0']\n",
      "cached-property -> python -> tk[version='>=8.6.10,<8.7.0a0']\n",
      "tk\n",
      "\n",
      "Package pip conflicts for:\n",
      "setuptools -> python[version='>=3.9,<3.10.0a0'] -> pip\n",
      "opt_einsum -> python[version='>=3.5'] -> pip\n",
      "wheel -> python -> pip\n",
      "cached-property -> python -> pip\n",
      "python_abi -> python=3.9 -> pip\n",
      "pytz -> python -> pip\n",
      "astunparse -> python -> pip\n",
      "python-dateutil -> python -> pip\n",
      "protobuf=3.13.0 -> python[version='>=3.9,<3.10.0a0'] -> pip\n",
      "pandas -> python[version='>=3.8,<3.9.0a0'] -> pip\n",
      "pip\n",
      "termcolor -> python -> pip\n",
      "absl-py -> python -> pip\n",
      "certifi -> python -> pip\n",
      "matplotlib -> python[version='>=3.8,<3.9.0a0'] -> pip\n",
      "numpy==1.19.2 -> python[version='>=3.8,<3.9.0a0'] -> pip\n",
      "typeguard -> python[version='>=3.4'] -> pip\n",
      "gast=0.3.3 -> python -> pip\n",
      "python=3.8.6 -> pip\n",
      "typing_extensions -> python[version='>=3.5'] -> pip\n",
      "\n",
      "Package six conflicts for:\n",
      "pandas -> python-dateutil[version='>=2.7.3'] -> six[version='>=1.5']\n",
      "wheel -> packaging[version='>=20.2'] -> six\n",
      "astunparse -> six[version='>=1.6.1,<2.0']\n",
      "protobuf=3.13.0 -> six\n",
      "python-dateutil -> six[version='>=1.5']\n",
      "absl-py -> six\n",
      "six\n",
      "\n",
      "Package liblapack conflicts for:\n",
      "liblapack\n",
      "pandas -> numpy[version='>=1.19.5,<2.0a0'] -> liblapack[version='>=3.9.0,<4.0a0']\n",
      "opt_einsum -> numpy -> liblapack[version='>=3.9.0,<4.0a0']\n",
      "numpy==1.19.2 -> liblapack[version='>=3.9.0,<4.0a0']\n",
      "\n",
      "Package sqlite conflicts for:\n",
      "python-dateutil -> python -> sqlite[version='>=3.33.0,<4.0a0|>=3.34.0,<4.0a0']\n",
      "matplotlib -> python[version='>=3.8,<3.9.0a0'] -> sqlite[version='>=3.33.0,<4.0a0|>=3.34.0,<4.0a0']\n",
      "protobuf=3.13.0 -> python[version='>=3.9,<3.10.0a0'] -> sqlite[version='>=3.33.0,<4.0a0|>=3.34.0,<4.0a0']\n",
      "absl-py -> python -> sqlite[version='>=3.33.0,<4.0a0|>=3.34.0,<4.0a0']\n",
      "python=3.8.6 -> sqlite[version='>=3.33.0,<4.0a0|>=3.34.0,<4.0a0']\n",
      "pandas -> python[version='>=3.8,<3.9.0a0'] -> sqlite[version='>=3.33.0,<4.0a0|>=3.34.0,<4.0a0']\n",
      "astunparse -> python -> sqlite[version='>=3.33.0,<4.0a0|>=3.34.0,<4.0a0']\n",
      "termcolor -> python -> sqlite[version='>=3.33.0,<4.0a0|>=3.34.0,<4.0a0']\n",
      "certifi -> python -> sqlite[version='>=3.33.0,<4.0a0|>=3.34.0,<4.0a0']\n",
      "numpy==1.19.2 -> python[version='>=3.8,<3.9.0a0'] -> sqlite[version='>=3.33.0,<4.0a0|>=3.34.0,<4.0a0']\n",
      "typing_extensions -> python[version='>=3.5'] -> sqlite[version='>=3.33.0,<4.0a0|>=3.34.0,<4.0a0']\n",
      "opt_einsum -> python[version='>=3.5'] -> sqlite[version='>=3.33.0,<4.0a0|>=3.34.0,<4.0a0']\n",
      "gast=0.3.3 -> python -> sqlite[version='>=3.33.0,<4.0a0|>=3.34.0,<4.0a0']\n",
      "wheel -> python -> sqlite[version='>=3.33.0,<4.0a0|>=3.34.0,<4.0a0']\n",
      "sqlite\n",
      "cached-property -> python -> sqlite[version='>=3.33.0,<4.0a0|>=3.34.0,<4.0a0']\n",
      "python_abi -> python=3.9 -> sqlite[version='>=3.33.0,<4.0a0|>=3.34.0,<4.0a0']\n",
      "pytz -> python -> sqlite[version='>=3.33.0,<4.0a0|>=3.34.0,<4.0a0']\n",
      "typeguard -> python[version='>=3.4'] -> sqlite[version='>=3.33.0,<4.0a0|>=3.34.0,<4.0a0']\n",
      "setuptools -> python[version='>=3.9,<3.10.0a0'] -> sqlite[version='>=3.33.0,<4.0a0|>=3.34.0,<4.0a0']\n",
      "pip -> python[version='>=3.6'] -> sqlite[version='>=3.33.0,<4.0a0|>=3.34.0,<4.0a0']\n",
      "\n",
      "Package python_abi conflicts for:\n",
      "setuptools -> python_abi[version='3.8.*|3.9.*',build='*_cp39|*_cp38']\n",
      "pandas -> python_abi[version='3.8.*|3.9.*',build='*_cp39|*_cp38']\n",
      "numpy==1.19.2 -> python_abi[version='3.8.*|3.9.*',build='*_cp39|*_cp38']\n",
      "python_abi\n",
      "opt_einsum -> numpy -> python_abi[version='3.8.*|3.9.*',build='*_cp39|*_cp38']\n",
      "pip -> setuptools -> python_abi[version='3.8.*|3.9.*',build='*_cp39|*_cp38']\n",
      "wheel -> setuptools -> python_abi[version='3.8.*|3.9.*',build='*_cp39|*_cp38']\n",
      "certifi -> python_abi[version='3.8.*|3.9.*',build='*_cp39|*_cp38']\n",
      "protobuf=3.13.0 -> python_abi[version='3.8.*|3.9.*',build='*_cp39|*_cp38']\n",
      "matplotlib -> python_abi[version='3.8.*|3.9.*',build='*_cp39|*_cp38']\n",
      "\n",
      "Package ncurses conflicts for:\n",
      "gast=0.3.3 -> python -> ncurses[version='>=6.2,<6.3.0a0']\n",
      "numpy==1.19.2 -> python[version='>=3.9,<3.10.0a0'] -> ncurses[version='>=6.2,<6.3.0a0']\n",
      "ncurses\n",
      "typeguard -> python[version='>=3.4'] -> ncurses[version='>=6.2,<6.3.0a0']\n",
      "python-dateutil -> python -> ncurses[version='>=6.2,<6.3.0a0']\n",
      "matplotlib -> python[version='>=3.9,<3.10.0a0'] -> ncurses[version='>=6.2,<6.3.0a0']\n",
      "pytz -> python -> ncurses[version='>=6.2,<6.3.0a0']\n",
      "python=3.8.6 -> readline[version='>=8.0,<9.0a0'] -> ncurses[version='>=6.2,<6.3.0a0']\n",
      "sqlite -> ncurses[version='>=6.2,<6.3.0a0']\n",
      "absl-py -> python -> ncurses[version='>=6.2,<6.3.0a0']\n",
      "protobuf=3.13.0 -> python[version='>=3.9,<3.10.0a0'] -> ncurses[version='>=6.2,<6.3.0a0']\n",
      "termcolor -> python -> ncurses[version='>=6.2,<6.3.0a0']\n",
      "pandas -> python[version='>=3.9,<3.10.0a0'] -> ncurses[version='>=6.2,<6.3.0a0']\n",
      "wheel -> python -> ncurses[version='>=6.2,<6.3.0a0']\n",
      "cached-property -> python -> ncurses[version='>=6.2,<6.3.0a0']\n",
      "opt_einsum -> python[version='>=3.5'] -> ncurses[version='>=6.2,<6.3.0a0']\n",
      "typing_extensions -> python[version='>=3.5'] -> ncurses[version='>=6.2,<6.3.0a0']\n",
      "python_abi -> python=3.9 -> ncurses[version='>=6.2,<6.3.0a0']\n",
      "astunparse -> python -> ncurses[version='>=6.2,<6.3.0a0']\n",
      "pip -> python[version='>=3.6'] -> ncurses[version='>=6.2,<6.3.0a0']\n",
      "certifi -> python -> ncurses[version='>=6.2,<6.3.0a0']\n",
      "readline -> ncurses[version='>=6.2,<6.3.0a0']\n",
      "setuptools -> python[version='>=3.9,<3.10.0a0'] -> ncurses[version='>=6.2,<6.3.0a0']\n",
      "\n",
      "Package libcxx conflicts for:\n",
      "absl-py -> python -> libcxx[version='>=11.0.0.rc1|>=11.0.0|>=11.0.1']\n",
      "libffi -> libcxx[version='>=11.0.0|>=11.0.0.rc1']\n",
      "cached-property -> python -> libcxx[version='>=11.0.0.rc1|>=11.0.0|>=11.0.1']\n",
      "python_abi -> python=3.9 -> libcxx[version='>=11.0.0.rc1|>=11.0.0|>=11.0.1']\n",
      "libprotobuf -> libcxx[version='>=11.0.0|>=11.0.0.rc1']\n",
      "sqlite -> ncurses[version='>=6.2,<6.3.0a0'] -> libcxx[version='>=11.0.0.rc1']\n",
      "protobuf=3.13.0 -> libcxx[version='>=11.0.0']\n",
      "termcolor -> python -> libcxx[version='>=11.0.0.rc1|>=11.0.0|>=11.0.1']\n",
      "ncurses -> libcxx[version='>=11.0.0.rc1']\n",
      "python-dateutil -> python -> libcxx[version='>=11.0.0.rc1|>=11.0.0|>=11.0.1']\n",
      "matplotlib -> matplotlib-base[version='>=3.3.4,<3.3.5.0a0'] -> libcxx[version='>=11.0.0.rc1|>=11.0.0|>=11.0.1']\n",
      "python=3.8.6 -> libcxx[version='>=11.0.0.rc1|>=11.0.0|>=11.0.1']\n",
      "wheel -> python -> libcxx[version='>=11.0.0.rc1|>=11.0.0|>=11.0.1']\n",
      "protobuf=3.13.0 -> libprotobuf=3.13.0.1 -> libcxx[version='>=11.0.0.rc1|>=11.0.1']\n",
      "readline -> ncurses[version='>=6.2,<6.3.0a0'] -> libcxx[version='>=11.0.0.rc1']\n",
      "certifi -> python -> libcxx[version='>=11.0.0.rc1|>=11.0.0|>=11.0.1']\n",
      "pandas -> libcxx[version='>=11.0.0']\n",
      "setuptools -> python[version='>=3.9,<3.10.0a0'] -> libcxx[version='>=11.0.0.rc1|>=11.0.0|>=11.0.1']\n",
      "numpy==1.19.2 -> python[version='>=3.8,<3.9.0a0'] -> libcxx[version='>=11.0.0.rc1|>=11.0.0|>=11.0.1']\n",
      "typing_extensions -> python[version='>=3.5'] -> libcxx[version='>=11.0.0.rc1|>=11.0.0|>=11.0.1']\n",
      "pandas -> python[version='>=3.8,<3.9.0a0'] -> libcxx[version='>=11.0.0.rc1|>=11.0.1']\n",
      "opt_einsum -> python[version='>=3.5'] -> libcxx[version='>=11.0.0.rc1|>=11.0.0|>=11.0.1']\n",
      "typeguard -> python[version='>=3.4'] -> libcxx[version='>=11.0.0.rc1|>=11.0.0|>=11.0.1']\n",
      "gast=0.3.3 -> python -> libcxx[version='>=11.0.0.rc1|>=11.0.0|>=11.0.1']\n",
      "pytz -> python -> libcxx[version='>=11.0.0.rc1|>=11.0.0|>=11.0.1']\n",
      "astunparse -> python -> libcxx[version='>=11.0.0.rc1|>=11.0.0|>=11.0.1']\n",
      "pip -> python[version='>=3.6'] -> libcxx[version='>=11.0.0.rc1|>=11.0.0|>=11.0.1']\n",
      "libcxx\n",
      "\n",
      "Package libopenblas conflicts for:\n",
      "libcblas -> libblas==3.9.0=8_openblas -> libopenblas[version='>=0.3.12,<0.3.13.0a0|>=0.3.12,<1.0a0']\n",
      "liblapack -> libblas==3.9.0=8_openblas -> libopenblas[version='>=0.3.12,<0.3.13.0a0|>=0.3.12,<1.0a0']\n",
      "numpy==1.19.2 -> libblas[version='>=3.9.0,<4.0a0'] -> libopenblas[version='>=0.3.12,<0.3.13.0a0|>=0.3.12,<1.0a0']\n",
      "libblas -> libopenblas[version='>=0.3.12,<0.3.13.0a0|>=0.3.12,<1.0a0']\n",
      "libopenblas\n",
      "\n",
      "Package zlib conflicts for:\n",
      "libprotobuf -> zlib[version='>=1.2.11,<1.3.0a0']\n",
      "zlib\n",
      "setuptools -> python[version='>=3.9,<3.10.0a0'] -> zlib[version='>=1.2.11,<1.3.0a0']\n",
      "tk -> zlib[version='>=1.2.11,<1.3.0a0']\n",
      "certifi -> python -> zlib[version='>=1.2.11,<1.3.0a0']\n",
      "numpy==1.19.2 -> python[version='>=3.8,<3.9.0a0'] -> zlib[version='>=1.2.11,<1.3.0a0']\n",
      "typing_extensions -> python[version='>=3.5'] -> zlib[version='>=1.2.11,<1.3.0a0']\n",
      "gast=0.3.3 -> python -> zlib[version='>=1.2.11,<1.3.0a0']\n",
      "pandas -> python[version='>=3.8,<3.9.0a0'] -> zlib[version='>=1.2.11,<1.3.0a0']\n",
      "wheel -> python -> zlib[version='>=1.2.11,<1.3.0a0']\n",
      "typeguard -> python[version='>=3.4'] -> zlib[version='>=1.2.11,<1.3.0a0']\n",
      "astunparse -> python -> zlib[version='>=1.2.11,<1.3.0a0']\n",
      "pip -> python[version='>=3.6'] -> zlib[version='>=1.2.11,<1.3.0a0']\n",
      "absl-py -> python -> zlib[version='>=1.2.11,<1.3.0a0']\n",
      "opt_einsum -> python[version='>=3.5'] -> zlib[version='>=1.2.11,<1.3.0a0']\n",
      "cached-property -> python -> zlib[version='>=1.2.11,<1.3.0a0']\n",
      "pytz -> python -> zlib[version='>=1.2.11,<1.3.0a0']\n",
      "python_abi -> python=3.9 -> zlib[version='>=1.2.11,<1.3.0a0']\n",
      "protobuf=3.13.0 -> libprotobuf=3.13.0.1 -> zlib[version='>=1.2.11,<1.3.0a0']\n",
      "termcolor -> python -> zlib[version='>=1.2.11,<1.3.0a0']\n",
      "sqlite -> zlib[version='>=1.2.11,<1.3.0a0']\n",
      "python-dateutil -> python -> zlib[version='>=1.2.11,<1.3.0a0']\n",
      "matplotlib -> python[version='>=3.8,<3.9.0a0'] -> zlib[version='>=1.2.11,<1.3.0a0']\n",
      "python=3.8.6 -> zlib[version='>=1.2.11,<1.3.0a0']\n",
      "\n",
      "Package libblas conflicts for:\n",
      "liblapack -> libblas[version='3.9.0|3.9.0|3.9.0|3.9.0.*',build='1_openblas|2_openblas|5_openblas|7_openblas|8_openblas|6_openblas|4_openblas|3_openblas']\n",
      "libcblas -> libblas[version='3.9.0|3.9.0|3.9.0|3.9.0.*',build='1_openblas|2_openblas|5_openblas|7_openblas|8_openblas|6_openblas|4_openblas|3_openblas']\n",
      "pandas -> numpy[version='>=1.19.5,<2.0a0'] -> libblas[version='>=3.9.0,<4.0a0']\n",
      "opt_einsum -> numpy -> libblas[version='>=3.9.0,<4.0a0']\n",
      "libblas\n",
      "numpy==1.19.2 -> libcblas[version='>=3.9.0,<4.0a0'] -> libblas[version='3.9.0|3.9.0|3.9.0|3.9.0.*',build='1_openblas|2_openblas|5_openblas|7_openblas|8_openblas|6_openblas|4_openblas|3_openblas']\n",
      "numpy==1.19.2 -> libblas[version='>=3.9.0,<4.0a0']\n",
      "\n",
      "Package libgfortran5 conflicts for:\n",
      "libcblas -> libgfortran5[version='>=11.0.0.dev0']\n",
      "numpy==1.19.2 -> libblas[version='>=3.9.0,<4.0a0'] -> libgfortran5[version='>=11.0.0.dev0']\n",
      "libblas -> libgfortran=5 -> libgfortran5\n",
      "libgfortran5\n",
      "libgfortran -> libgfortran5\n",
      "libblas -> libgfortran5[version='>=11.0.0.dev0']\n",
      "libopenblas -> libgfortran5[version='>=11.0.0.dev0']\n",
      "libopenblas -> libgfortran=5 -> libgfortran5\n",
      "libcblas -> libgfortran=5 -> libgfortran5\n",
      "liblapack -> libgfortran=5 -> libgfortran5\n",
      "liblapack -> libgfortran5[version='>=11.0.0.dev0']\n",
      "\n",
      "Package llvm-openmp conflicts for:\n",
      "libgfortran -> libgfortran5 -> llvm-openmp[version='>=11.0.0.0rc.1|>=8.0.0']\n",
      "libcblas -> libgfortran5[version='>=11.0.0.dev0'] -> llvm-openmp[version='>=11.0.0.0rc.1|>=8.0.0']\n",
      "libopenblas -> llvm-openmp[version='>=11.0.0']\n",
      "libblas -> libopenblas[version='>=0.3.12,<0.3.13.0a0'] -> llvm-openmp[version='>=11.0.0.0rc.1|>=11.0.0|>=8.0.0']\n",
      "liblapack -> libgfortran5[version='>=11.0.0.dev0'] -> llvm-openmp[version='>=11.0.0.0rc.1|>=8.0.0']\n",
      "llvm-openmp\n",
      "libopenblas -> libgfortran5[version='>=11.0.0.dev0'] -> llvm-openmp[version='>=11.0.0.0rc.1|>=8.0.0']\n",
      "libgfortran5 -> llvm-openmp[version='>=11.0.0.0rc.1|>=8.0.0']\n",
      "\n",
      "Package setuptools conflicts for:\n",
      "matplotlib -> matplotlib-base[version='>=3.3.4,<3.3.5.0a0'] -> setuptools\n",
      "pip -> setuptools\n",
      "setuptools\n",
      "python=3.8.6 -> pip -> setuptools\n",
      "protobuf=3.13.0 -> setuptools\n",
      "wheel -> setuptools\n",
      "\n",
      "Package libcblas conflicts for:\n",
      "numpy==1.19.2 -> libcblas[version='>=3.9.0,<4.0a0']\n",
      "pandas -> numpy[version='>=1.19.5,<2.0a0'] -> libcblas[version='>=3.9.0,<4.0a0']\n",
      "opt_einsum -> numpy -> libcblas[version='>=3.9.0,<4.0a0']\n",
      "libcblas\n",
      "\n",
      "Package numpy conflicts for:\n",
      "numpy==1.19.2\n",
      "opt_einsum -> numpy\n",
      "pandas -> numpy[version='>=1.19.2,<2.0a0|>=1.19.4,<2.0a0|>=1.19.5,<2.0a0']\n",
      "\n",
      "Package libgfortran conflicts for:\n",
      "liblapack -> libgfortran=5\n",
      "libgfortran\n",
      "libcblas -> libgfortran=5\n",
      "numpy==1.19.2 -> libblas[version='>=3.9.0,<4.0a0'] -> libgfortran=5\n",
      "libopenblas -> libgfortran=5\n",
      "libblas -> libgfortran=5\n",
      "\n",
      "Package wheel conflicts for:\n",
      "wheel\n",
      "pip -> wheel\n",
      "python=3.8.6 -> pip -> wheel\n",
      "\n",
      "Package python-dateutil conflicts for:\n",
      "python-dateutil\n",
      "pandas -> python-dateutil[version='>=2.7.3']\n",
      "matplotlib -> matplotlib-base[version='>=3.3.4,<3.3.5.0a0'] -> python-dateutil[version='>=2.1']\n",
      "\n",
      "Package ca-certificates conflicts for:\n",
      "openssl -> ca-certificates\n",
      "ca-certificates\n",
      "python=3.8.6 -> openssl[version='>=1.1.1i,<1.1.2a'] -> ca-certificates\n",
      "\n",
      "Package pytz conflicts for:\n",
      "pandas -> pytz[version='>=2017.2']\n",
      "pytz\n",
      "\n",
      "Package certifi conflicts for:\n",
      "pip -> setuptools -> certifi[version='>=2016.9.26']\n",
      "protobuf=3.13.0 -> setuptools -> certifi[version='>=2016.9.26']\n",
      "wheel -> setuptools -> certifi[version='>=2016.9.26']\n",
      "matplotlib -> matplotlib-base[version='>=3.3.4,<3.3.5.0a0'] -> certifi[version='>=2020.06.20']\n",
      "setuptools -> certifi[version='>=2016.9.26']\n",
      "certifi\n",
      "\n",
      "Package libprotobuf conflicts for:\n",
      "protobuf=3.13.0 -> libprotobuf[version='3.13.0.1.*|>=3.13.0.1,<3.14.0a0']\n",
      "libprotobuf\n",
      "\n",
      "Package packaging conflicts for:\n",
      "pip -> wheel -> packaging[version='>=20.2']\n",
      "wheel -> packaging[version='>=20.2']\n",
      "\n",
      "Package pyparsing conflicts for:\n",
      "matplotlib -> matplotlib-base[version='>=3.3.4,<3.3.5.0a0'] -> pyparsing[version='>=2.0.3,!=2.0.4,!=2.1.2,!=2.1.6']\n",
      "wheel -> packaging[version='>=20.2'] -> pyparsing[version='>=2.0.2']\n",
      "\n"
     ]
    },
    {
     "name": "stdout",
     "output_type": "stream",
     "text": [
      "\n",
      "Note: you may need to restart the kernel to use updated packages.\n"
     ]
    }
   ],
   "source": [
    "conda install matplotlib"
   ]
  },
  {
   "cell_type": "code",
   "execution_count": 4,
   "id": "latter-diagram",
   "metadata": {},
   "outputs": [],
   "source": [
    "fashion_mnist = keras.datasets.fashion_mnist  # load dataset\n",
    "\n",
    "(train_images, train_labels), (test_images, test_labels) = fashion_mnist.load_data()  # split into tetsing and training"
   ]
  },
  {
   "cell_type": "code",
   "execution_count": 5,
   "id": "stuck-magic",
   "metadata": {},
   "outputs": [
    {
     "data": {
      "text/plain": [
       "(60000, 28, 28)"
      ]
     },
     "execution_count": 5,
     "metadata": {},
     "output_type": "execute_result"
    },
    {
     "data": {
      "text/plain": [
       "(60000, 28, 28)"
      ]
     },
     "execution_count": 5,
     "metadata": {},
     "output_type": "execute_result"
    }
   ],
   "source": [
    "train_images.shape"
   ]
  },
  {
   "cell_type": "code",
   "execution_count": 6,
   "id": "imposed-breach",
   "metadata": {},
   "outputs": [
    {
     "data": {
      "text/plain": [
       "194"
      ]
     },
     "execution_count": 6,
     "metadata": {},
     "output_type": "execute_result"
    },
    {
     "data": {
      "text/plain": [
       "194"
      ]
     },
     "execution_count": 6,
     "metadata": {},
     "output_type": "execute_result"
    }
   ],
   "source": [
    "train_images[0,23,23]  # let's have a look at one pixel"
   ]
  },
  {
   "cell_type": "code",
   "execution_count": 7,
   "id": "velvet-victorian",
   "metadata": {},
   "outputs": [
    {
     "data": {
      "text/plain": [
       "array([9, 0, 0, 3, 0, 2, 7, 2, 5, 5], dtype=uint8)"
      ]
     },
     "execution_count": 7,
     "metadata": {},
     "output_type": "execute_result"
    },
    {
     "data": {
      "text/plain": [
       "array([9, 0, 0, 3, 0, 2, 7, 2, 5, 5], dtype=uint8)"
      ]
     },
     "execution_count": 7,
     "metadata": {},
     "output_type": "execute_result"
    }
   ],
   "source": [
    "train_labels[:10]  # let's have a look at the first 10 training labels"
   ]
  },
  {
   "cell_type": "code",
   "execution_count": 8,
   "id": "legislative-meter",
   "metadata": {},
   "outputs": [],
   "source": [
    "class_names = ['T-shirt/top', 'Trouser', 'Pullover', 'Dress', 'Coat',\n",
    "               'Sandal', 'Shirt', 'Sneaker', 'Bag', 'Ankle boot']"
   ]
  },
  {
   "cell_type": "code",
   "execution_count": 9,
   "id": "manual-metropolitan",
   "metadata": {},
   "outputs": [
    {
     "data": {
      "image/png": "[encoded data removed]",
      "text/plain": [
       "<Figure size 432x288 with 2 Axes>"
      ]
     },
     "metadata": {
      "needs_background": "light"
     },
     "output_type": "display_data"
    },
    {
     "data": {
      "image/png": "[encoded data removed]",
      "text/plain": [
       "<Figure size 432x288 with 2 Axes>"
      ]
     },
     "metadata": {
      "needs_background": "light"
     },
     "output_type": "display_data"
    }
   ],
   "source": [
    "plt.figure()\n",
    "plt.imshow(train_images[1])\n",
    "plt.colorbar()\n",
    "plt.grid(False)\n",
    "plt.show()"
   ]
  },
  {
   "cell_type": "code",
   "execution_count": 10,
   "id": "exotic-modeling",
   "metadata": {},
   "outputs": [],
   "source": [
    "train_images = train_images / 255.0\n",
    "\n",
    "test_images = test_images / 255.0"
   ]
  },
  {
   "cell_type": "code",
   "execution_count": 11,
   "id": "endless-wisconsin",
   "metadata": {},
   "outputs": [],
   "source": [
    "model = keras.Sequential([\n",
    "    keras.layers.Flatten(input_shape=(28, 28)),  # input layer (1)\n",
    "    keras.layers.Dense(128, activation='relu'),  # hidden layer (2)\n",
    "    keras.layers.Dense(10, activation='softmax') # output layer (3)\n",
    "])"
   ]
  },
  {
   "cell_type": "code",
   "execution_count": 12,
   "id": "indonesian-disease",
   "metadata": {},
   "outputs": [],
   "source": [
    "model.compile(optimizer='adam',\n",
    "              loss='sparse_categorical_crossentropy',\n",
    "              metrics=['accuracy'])"
   ]
  },
  {
   "cell_type": "code",
   "execution_count": null,
   "id": "cosmetic-course",
   "metadata": {},
   "outputs": [],
   "source": []
  },
  {
   "cell_type": "code",
   "execution_count": null,
   "id": "dutch-consumer",
   "metadata": {},
   "outputs": [
    {
     "name": "stdout",
     "output_type": "stream",
     "text": [
      "Train on 60000 samples\n",
      "Epoch 1/10\n",
      "Train on 60000 samples\n",
      "Epoch 1/10\n"
     ]
    }
   ],
   "source": [
    "model.fit(train_images, train_labels, epochs=10)  # we pass the data, labels and epochs and watch the magic!"
   ]
  },
  {
   "cell_type": "code",
   "execution_count": 2,
   "id": "beneficial-essence",
   "metadata": {},
   "outputs": [
    {
     "ename": "SyntaxError",
     "evalue": "invalid syntax (<ipython-input-2-4283a182ce07>, line 1)",
     "output_type": "error",
     "traceback": [
      "\u001b[0;36m  File \u001b[0;32m\"<ipython-input-2-4283a182ce07>\"\u001b[0;36m, line \u001b[0;32m1\u001b[0m\n\u001b[0;31m    jupyter notebook --debug\u001b[0m\n\u001b[0m                   ^\u001b[0m\n\u001b[0;31mSyntaxError\u001b[0m\u001b[0;31m:\u001b[0m invalid syntax\n"
     ]
    },
    {
     "ename": "SyntaxError",
     "evalue": "invalid syntax (<ipython-input-2-4283a182ce07>, line 1)",
     "output_type": "error",
     "traceback": [
      "\u001b[0;36m  File \u001b[0;32m\"<ipython-input-2-4283a182ce07>\"\u001b[0;36m, line \u001b[0;32m1\u001b[0m\n\u001b[0;31m    jupyter notebook --debug\u001b[0m\n\u001b[0m                   ^\u001b[0m\n\u001b[0;31mSyntaxError\u001b[0m\u001b[0;31m:\u001b[0m invalid syntax\n"
     ]
    }
   ],
   "source": []
  },
  {
   "cell_type": "code",
   "execution_count": null,
   "id": "apparent-certification",
   "metadata": {},
   "outputs": [],
   "source": [
    "test_loss, test_acc = model.evaluate(test_images,  test_labels, verbose=1) \n",
    "\n",
    "print('Test accuracy:', test_acc)"
   ]
  },
  {
   "cell_type": "code",
   "execution_count": null,
   "id": "elect-terrace",
   "metadata": {},
   "outputs": [],
   "source": [
    "predictions = model.predict(test_images)"
   ]
  },
  {
   "cell_type": "code",
   "execution_count": null,
   "id": "early-bachelor",
   "metadata": {},
   "outputs": [],
   "source": [
    "predictions[0]"
   ]
  },
  {
   "cell_type": "code",
   "execution_count": null,
   "id": "macro-expression",
   "metadata": {},
   "outputs": [],
   "source": [
    "np.argmax(predictions[0])"
   ]
  },
  {
   "cell_type": "code",
   "execution_count": null,
   "id": "adjacent-yacht",
   "metadata": {},
   "outputs": [],
   "source": [
    "test_labels[0]"
   ]
  },
  {
   "cell_type": "code",
   "execution_count": null,
   "id": "distributed-fifth",
   "metadata": {},
   "outputs": [],
   "source": [
    "COLOR = 'white'\n",
    "plt.rcParams['text.color'] = COLOR\n",
    "plt.rcParams['axes.labelcolor'] = COLOR\n",
    "\n",
    "def predict(model, image, correct_label):\n",
    "  class_names = ['T-shirt/top', 'Trouser', 'Pullover', 'Dress', 'Coat',\n",
    "               'Sandal', 'Shirt', 'Sneaker', 'Bag', 'Ankle boot']\n",
    "  prediction = model.predict(np.array([image]))\n",
    "  predicted_class = class_names[np.argmax(prediction)]\n",
    "\n",
    "  show_image(image, class_names[correct_label], predicted_class)\n",
    "\n",
    "\n",
    "def show_image(img, label, guess):\n",
    "  plt.figure()\n",
    "  plt.imshow(img, cmap=plt.cm.binary)\n",
    "  plt.title(\"Excpected: \" + label)\n",
    "  plt.xlabel(\"Guess: \" + guess)\n",
    "  plt.colorbar()\n",
    "  plt.grid(False)\n",
    "  plt.show()\n",
    "\n",
    "\n",
    "def get_number():\n",
    "  while True:\n",
    "    num = input(\"Pick a number: \")\n",
    "    if num.isdigit():\n",
    "      num = int(num)\n",
    "      if 0 <= num <= 1000:\n",
    "        return int(num)\n",
    "    else:\n",
    "      print(\"Try again...\")\n",
    "\n",
    "num = get_number()\n",
    "image = test_images[num]\n",
    "label = test_labels[num]\n",
    "predict(model, image, label)\n"
   ]
  }
 ],
 "metadata": {
  "kernelspec": {
   "display_name": "Python 3",
   "language": "python",
   "name": "python3"
  },
  "language_info": {
   "codemirror_mode": {
    "name": "ipython",
    "version": 3
   },
   "file_extension": ".py",
   "mimetype": "text/x-python",
   "name": "python",
   "nbconvert_exporter": "python",
   "pygments_lexer": "ipython3",
   "version": "3.8.6"
  }
 },
 "nbformat": 4,
 "nbformat_minor": 5
}
